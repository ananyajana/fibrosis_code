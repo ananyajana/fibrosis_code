{
 "cells": [
  {
   "cell_type": "code",
   "execution_count": 112,
   "metadata": {},
   "outputs": [],
   "source": [
    "import pandas as pd\n",
    "import numpy as np"
   ]
  },
  {
   "cell_type": "code",
   "execution_count": 113,
   "metadata": {},
   "outputs": [],
   "source": [
    "path='AUC_values_combined.xlsx'"
   ]
  },
  {
   "cell_type": "code",
   "execution_count": 114,
   "metadata": {},
   "outputs": [],
   "source": [
    "sheet_names = ['combined_fibroosis', 'combined_steatosis', 'combined_lobular','combined_ballooning']"
   ]
  },
  {
   "cell_type": "code",
   "execution_count": 115,
   "metadata": {},
   "outputs": [],
   "source": [
    "df = pd.read_excel(path, sheet_name='combined_ballooning')"
   ]
  },
  {
   "cell_type": "code",
   "execution_count": 116,
   "metadata": {},
   "outputs": [
    {
     "data": {
      "text/html": [
       "<div>\n",
       "<style scoped>\n",
       "    .dataframe tbody tr th:only-of-type {\n",
       "        vertical-align: middle;\n",
       "    }\n",
       "\n",
       "    .dataframe tbody tr th {\n",
       "        vertical-align: top;\n",
       "    }\n",
       "\n",
       "    .dataframe thead th {\n",
       "        text-align: right;\n",
       "    }\n",
       "</style>\n",
       "<table border=\"1\" class=\"dataframe\">\n",
       "  <thead>\n",
       "    <tr style=\"text-align: right;\">\n",
       "      <th></th>\n",
       "      <th>nas_balloon</th>\n",
       "      <th>acc</th>\n",
       "      <th>avg_auc</th>\n",
       "      <th>Unnamed: 3</th>\n",
       "      <th>Unnamed: 4</th>\n",
       "    </tr>\n",
       "  </thead>\n",
       "  <tbody>\n",
       "    <tr>\n",
       "      <th>0</th>\n",
       "      <td>Fold1:</td>\n",
       "      <td>34</td>\n",
       "      <td>59.53</td>\n",
       "      <td>31.04</td>\n",
       "      <td>86.41</td>\n",
       "    </tr>\n",
       "    <tr>\n",
       "      <th>1</th>\n",
       "      <td>Fold2:</td>\n",
       "      <td>10</td>\n",
       "      <td>66.24</td>\n",
       "      <td>33.29</td>\n",
       "      <td>96.30</td>\n",
       "    </tr>\n",
       "    <tr>\n",
       "      <th>2</th>\n",
       "      <td>Fold3:</td>\n",
       "      <td>20</td>\n",
       "      <td>47.39</td>\n",
       "      <td>11.98</td>\n",
       "      <td>85.59</td>\n",
       "    </tr>\n",
       "    <tr>\n",
       "      <th>3</th>\n",
       "      <td>Avg:</td>\n",
       "      <td>21.33</td>\n",
       "      <td>57.72</td>\n",
       "      <td>25.44</td>\n",
       "      <td>89.43</td>\n",
       "    </tr>\n",
       "    <tr>\n",
       "      <th>4</th>\n",
       "      <td>nas_balloon</td>\n",
       "      <td>acc</td>\n",
       "      <td>avg_auc</td>\n",
       "      <td>NaN</td>\n",
       "      <td>NaN</td>\n",
       "    </tr>\n",
       "    <tr>\n",
       "      <th>5</th>\n",
       "      <td>Fold1:</td>\n",
       "      <td>34</td>\n",
       "      <td>67.29</td>\n",
       "      <td>31.16</td>\n",
       "      <td>97.50</td>\n",
       "    </tr>\n",
       "    <tr>\n",
       "      <th>6</th>\n",
       "      <td>Fold2:</td>\n",
       "      <td>10</td>\n",
       "      <td>68.87</td>\n",
       "      <td>35.49</td>\n",
       "      <td>96.76</td>\n",
       "    </tr>\n",
       "    <tr>\n",
       "      <th>7</th>\n",
       "      <td>Fold3:</td>\n",
       "      <td>20</td>\n",
       "      <td>56.04</td>\n",
       "      <td>18.71</td>\n",
       "      <td>88.06</td>\n",
       "    </tr>\n",
       "    <tr>\n",
       "      <th>8</th>\n",
       "      <td>Avg:</td>\n",
       "      <td>21.33</td>\n",
       "      <td>64.07</td>\n",
       "      <td>28.46</td>\n",
       "      <td>94.10</td>\n",
       "    </tr>\n",
       "    <tr>\n",
       "      <th>9</th>\n",
       "      <td>nas_balloon</td>\n",
       "      <td>acc</td>\n",
       "      <td>avg_auc</td>\n",
       "      <td>NaN</td>\n",
       "      <td>NaN</td>\n",
       "    </tr>\n",
       "    <tr>\n",
       "      <th>10</th>\n",
       "      <td>Fold1:</td>\n",
       "      <td>36</td>\n",
       "      <td>62.05</td>\n",
       "      <td>29.46</td>\n",
       "      <td>91.95</td>\n",
       "    </tr>\n",
       "    <tr>\n",
       "      <th>11</th>\n",
       "      <td>Fold2:</td>\n",
       "      <td>36</td>\n",
       "      <td>62.53</td>\n",
       "      <td>29.70</td>\n",
       "      <td>93.29</td>\n",
       "    </tr>\n",
       "    <tr>\n",
       "      <th>12</th>\n",
       "      <td>Fold3:</td>\n",
       "      <td>20</td>\n",
       "      <td>60.13</td>\n",
       "      <td>28.69</td>\n",
       "      <td>89.09</td>\n",
       "    </tr>\n",
       "    <tr>\n",
       "      <th>13</th>\n",
       "      <td>Avg:</td>\n",
       "      <td>30.67</td>\n",
       "      <td>61.57</td>\n",
       "      <td>29.28</td>\n",
       "      <td>91.44</td>\n",
       "    </tr>\n",
       "    <tr>\n",
       "      <th>14</th>\n",
       "      <td>nas_balloon</td>\n",
       "      <td>acc</td>\n",
       "      <td>avg_auc</td>\n",
       "      <td>NaN</td>\n",
       "      <td>NaN</td>\n",
       "    </tr>\n",
       "    <tr>\n",
       "      <th>15</th>\n",
       "      <td>Fold1:</td>\n",
       "      <td>34</td>\n",
       "      <td>69.71</td>\n",
       "      <td>33.25</td>\n",
       "      <td>96.27</td>\n",
       "    </tr>\n",
       "    <tr>\n",
       "      <th>16</th>\n",
       "      <td>Fold2:</td>\n",
       "      <td>34</td>\n",
       "      <td>67.41</td>\n",
       "      <td>34.44</td>\n",
       "      <td>95.01</td>\n",
       "    </tr>\n",
       "    <tr>\n",
       "      <th>17</th>\n",
       "      <td>Fold3:</td>\n",
       "      <td>36</td>\n",
       "      <td>59.31</td>\n",
       "      <td>24.02</td>\n",
       "      <td>91.52</td>\n",
       "    </tr>\n",
       "    <tr>\n",
       "      <th>18</th>\n",
       "      <td>Avg:</td>\n",
       "      <td>34.67</td>\n",
       "      <td>65.47</td>\n",
       "      <td>30.57</td>\n",
       "      <td>94.27</td>\n",
       "    </tr>\n",
       "    <tr>\n",
       "      <th>19</th>\n",
       "      <td>nas_balloon</td>\n",
       "      <td>acc</td>\n",
       "      <td>avg_auc</td>\n",
       "      <td>NaN</td>\n",
       "      <td>NaN</td>\n",
       "    </tr>\n",
       "    <tr>\n",
       "      <th>20</th>\n",
       "      <td>Fold1:</td>\n",
       "      <td>28</td>\n",
       "      <td>65.9</td>\n",
       "      <td>27.46</td>\n",
       "      <td>97.10</td>\n",
       "    </tr>\n",
       "    <tr>\n",
       "      <th>21</th>\n",
       "      <td>Fold2:</td>\n",
       "      <td>34</td>\n",
       "      <td>71.91</td>\n",
       "      <td>38.24</td>\n",
       "      <td>100.00</td>\n",
       "    </tr>\n",
       "    <tr>\n",
       "      <th>22</th>\n",
       "      <td>Fold3:</td>\n",
       "      <td>28</td>\n",
       "      <td>59.77</td>\n",
       "      <td>27.49</td>\n",
       "      <td>85.89</td>\n",
       "    </tr>\n",
       "    <tr>\n",
       "      <th>23</th>\n",
       "      <td>Avg:</td>\n",
       "      <td>30</td>\n",
       "      <td>65.86</td>\n",
       "      <td>31.06</td>\n",
       "      <td>94.33</td>\n",
       "    </tr>\n",
       "  </tbody>\n",
       "</table>\n",
       "</div>"
      ],
      "text/plain": [
       "    nas_balloon    acc  avg_auc  Unnamed: 3  Unnamed: 4\n",
       "0        Fold1:     34    59.53       31.04       86.41\n",
       "1        Fold2:     10    66.24       33.29       96.30\n",
       "2        Fold3:     20    47.39       11.98       85.59\n",
       "3          Avg:  21.33    57.72       25.44       89.43\n",
       "4   nas_balloon    acc  avg_auc         NaN         NaN\n",
       "5        Fold1:     34    67.29       31.16       97.50\n",
       "6        Fold2:     10    68.87       35.49       96.76\n",
       "7        Fold3:     20    56.04       18.71       88.06\n",
       "8          Avg:  21.33    64.07       28.46       94.10\n",
       "9   nas_balloon    acc  avg_auc         NaN         NaN\n",
       "10       Fold1:     36    62.05       29.46       91.95\n",
       "11       Fold2:     36    62.53       29.70       93.29\n",
       "12       Fold3:     20    60.13       28.69       89.09\n",
       "13         Avg:  30.67    61.57       29.28       91.44\n",
       "14  nas_balloon    acc  avg_auc         NaN         NaN\n",
       "15       Fold1:     34    69.71       33.25       96.27\n",
       "16       Fold2:     34    67.41       34.44       95.01\n",
       "17       Fold3:     36    59.31       24.02       91.52\n",
       "18         Avg:  34.67    65.47       30.57       94.27\n",
       "19  nas_balloon    acc  avg_auc         NaN         NaN\n",
       "20       Fold1:     28     65.9       27.46       97.10\n",
       "21       Fold2:     34    71.91       38.24      100.00\n",
       "22       Fold3:     28    59.77       27.49       85.89\n",
       "23         Avg:     30    65.86       31.06       94.33"
      ]
     },
     "execution_count": 116,
     "metadata": {},
     "output_type": "execute_result"
    }
   ],
   "source": [
    "df"
   ]
  },
  {
   "cell_type": "code",
   "execution_count": 117,
   "metadata": {},
   "outputs": [
    {
     "data": {
      "text/plain": [
       "59.53"
      ]
     },
     "execution_count": 117,
     "metadata": {},
     "output_type": "execute_result"
    }
   ],
   "source": [
    "df.iloc[0, 2]"
   ]
  },
  {
   "cell_type": "code",
   "execution_count": 118,
   "metadata": {},
   "outputs": [
    {
     "data": {
      "text/plain": [
       "66.24"
      ]
     },
     "execution_count": 118,
     "metadata": {},
     "output_type": "execute_result"
    }
   ],
   "source": [
    "df.iloc[1, 2]"
   ]
  },
  {
   "cell_type": "code",
   "execution_count": 119,
   "metadata": {},
   "outputs": [
    {
     "data": {
      "text/plain": [
       "47.39"
      ]
     },
     "execution_count": 119,
     "metadata": {},
     "output_type": "execute_result"
    }
   ],
   "source": [
    "df.iloc[2, 2]"
   ]
  },
  {
   "cell_type": "code",
   "execution_count": 120,
   "metadata": {},
   "outputs": [
    {
     "data": {
      "text/plain": [
       "57.72"
      ]
     },
     "execution_count": 120,
     "metadata": {},
     "output_type": "execute_result"
    }
   ],
   "source": [
    "df.iloc[3, 2]"
   ]
  },
  {
   "cell_type": "code",
   "execution_count": 121,
   "metadata": {
    "scrolled": true
   },
   "outputs": [
    {
     "data": {
      "image/png": "[encoded data removed]",
      "text/plain": [
       "<Figure size 432x288 with 1 Axes>"
      ]
     },
     "metadata": {
      "needs_background": "light"
     },
     "output_type": "display_data"
    }
   ],
   "source": [
    "import matplotlib.pyplot as plt\n",
    "fig, ax = plt.subplots(1,1)\n",
    "xm1 = [-2, -1, 0]\n",
    "x = [1, 2, 3]\n",
    "x2 = [4, 5, 6]\n",
    "x3 = [7, 8, 9]\n",
    "y = [1,2,3]\n",
    "yerr = [0.5, 0.5, 0.5]\n",
    "\n",
    "ax.bar(x=xm1, height=y, yerr=yerr, capsize=5, zorder=-1)\n",
    "ax.bar(x=x, height=y, yerr=yerr, capsize=5, zorder=1)\n",
    "ax.bar(x=x2, height=y, yerr=yerr, capsize=5, zorder=2)\n",
    "ax.bar(x=x3, height=y, yerr=yerr, capsize=5, zorder=3) # Applies for zorder>=3\n",
    "fig.show()"
   ]
  },
  {
   "cell_type": "code",
   "execution_count": 122,
   "metadata": {},
   "outputs": [
    {
     "data": {
      "text/plain": [
       "<matplotlib.legend.Legend at 0x7f33126bed50>"
      ]
     },
     "execution_count": 122,
     "metadata": {},
     "output_type": "execute_result"
    },
    {
     "data": {
      "image/png": "[encoded data removed]",
      "text/plain": [
       "<Figure size 432x288 with 1 Axes>"
      ]
     },
     "metadata": {
      "needs_background": "light"
     },
     "output_type": "display_data"
    }
   ],
   "source": [
    "import matplotlib\n",
    "import matplotlib.pyplot as plt\n",
    "import numpy as np\n",
    "\n",
    "\n",
    "men_means, men_std = (20, 35, 30, 35, 27), (2, 3, 4, 1, 2)\n",
    "women_means, women_std = (25, 32, 34, 20, 25), (3, 5, 2, 3, 3)\n",
    "\n",
    "ind = np.arange(len(men_means))  # the x locations for the groups\n",
    "width = 0.35  # the width of the bars\n",
    "\n",
    "fig, ax = plt.subplots()\n",
    "rects1 = ax.bar(ind - width/2, men_means, width, yerr=men_std,capsize=5, zorder=-1,\n",
    "                label='Men')\n",
    "rects2 = ax.bar(ind + width/2, women_means, width, yerr=women_std,capsize=5, zorder=-1,\n",
    "                label='Women')\n",
    "\n",
    "# Add some text for labels, title and custom x-axis tick labels, etc.\n",
    "ax.set_ylabel('Scores')\n",
    "ax.set_title('Scores by group and gender')\n",
    "ax.set_xticks(ind)\n",
    "ax.set_xticklabels(('G1', 'G2', 'G3', 'G4', 'G5'))\n",
    "ax.legend()"
   ]
  },
  {
   "cell_type": "code",
   "execution_count": 123,
   "metadata": {},
   "outputs": [],
   "source": [
    "fib = (df.iloc[0, 2], df.iloc[1, 2], df.iloc[2, 2], df.iloc[3, 2])"
   ]
  },
  {
   "cell_type": "code",
   "execution_count": 124,
   "metadata": {},
   "outputs": [
    {
     "data": {
      "text/plain": [
       "(59.53, 66.24, 47.39, 57.72)"
      ]
     },
     "execution_count": 124,
     "metadata": {},
     "output_type": "execute_result"
    }
   ],
   "source": [
    "fib"
   ]
  },
  {
   "cell_type": "code",
   "execution_count": 125,
   "metadata": {},
   "outputs": [],
   "source": [
    "fib_auc = ((df.iloc[0, 2] - df.iloc[0, 3], df.iloc[1, 2]- df.iloc[1, 3], df.iloc[2, 2] - df.iloc[2, 3], df.iloc[3, 2] - df.iloc[3, 3]), (df.iloc[0, 4] - df.iloc[0, 2], df.iloc[1, 4] - df.iloc[1, 2], df.iloc[2, 4] - df.iloc[2, 2], df.iloc[3, 4] - df.iloc[3, 2]))"
   ]
  },
  {
   "cell_type": "code",
   "execution_count": 126,
   "metadata": {},
   "outputs": [],
   "source": [
    "#fib_auc = [[df.iloc[0, 3], df.iloc[1, 3], df.iloc[2, 3], df.iloc[3, 3]], [df.iloc[0, 4], df.iloc[1, 4], df.iloc[2, 4], df.iloc[3, 4]]]"
   ]
  },
  {
   "cell_type": "code",
   "execution_count": 127,
   "metadata": {},
   "outputs": [
    {
     "data": {
      "text/plain": [
       "((28.490000000000002, 32.949999999999996, 35.41, 32.28),\n",
       " (26.879999999999995, 30.060000000000002, 38.2, 31.710000000000008))"
      ]
     },
     "execution_count": 127,
     "metadata": {},
     "output_type": "execute_result"
    }
   ],
   "source": [
    "fib_auc"
   ]
  },
  {
   "cell_type": "code",
   "execution_count": 128,
   "metadata": {},
   "outputs": [
    {
     "data": {
      "text/plain": [
       "<matplotlib.legend.Legend at 0x7f331247e2d0>"
      ]
     },
     "execution_count": 128,
     "metadata": {},
     "output_type": "execute_result"
    },
    {
     "data": {
      "image/png": "[encoded data removed]",
      "text/plain": [
       "<Figure size 432x288 with 1 Axes>"
      ]
     },
     "metadata": {
      "needs_background": "light"
     },
     "output_type": "display_data"
    }
   ],
   "source": [
    "import matplotlib\n",
    "import matplotlib.pyplot as plt\n",
    "import numpy as np\n",
    "\n",
    "\n",
    "men_means, men_std = fib, fib_auc\n",
    "#women_means, women_std = (25, 32, 34, 20, 25), (3, 5, 2, 3, 3)\n",
    "\n",
    "ind = np.arange(len(men_means))  # the x locations for the groups\n",
    "width = 0.15  # the width of the bars\n",
    "\n",
    "fig, ax = plt.subplots()\n",
    "rects1 = ax.bar(ind - width/2, men_means, width, yerr=men_std,capsize=5, zorder=-1,\n",
    "                label='Men')\n",
    "#rects2 = ax.bar(ind + width/2, women_means, width, yerr=women_std,capsize=5, zorder=-1,\n",
    "#                label='Women')\n",
    "\n",
    "# Add some text for labels, title and custom x-axis tick labels, etc.\n",
    "ax.set_ylabel('AUC Value')\n",
    "#ax.set_title('Scores by group and gender')\n",
    "ax.set_xticks(ind)\n",
    "ax.set_xticklabels(('Fold1', 'Fold2', 'Fold3', 'Mean'))\n",
    "ax.legend()"
   ]
  },
  {
   "cell_type": "code",
   "execution_count": 129,
   "metadata": {},
   "outputs": [],
   "source": [
    "auc_col = 2\n",
    "ci_lo_col = 3\n",
    "ci_hi_col = 4\n",
    "fold1_row = 0\n",
    "fold2_row = 1\n",
    "fold3_row = 2\n",
    "mean_row = 3\n",
    "fibs = []\n",
    "fib_aucs = []\n",
    "i_arr = [0, 5, 10, 15, 20]\n",
    "i = 0\n",
    "for k in range(len(i_arr)):\n",
    "    i = i_arr[k]\n",
    "    fib = (df.iloc[i + mean_row, auc_col], \\\n",
    "           df.iloc[i + fold1_row, auc_col], \\\n",
    "           df.iloc[i + fold2_row, auc_col], \\\n",
    "           df.iloc[i + fold3_row, auc_col])\n",
    "\n",
    "    fibs.append(fib)\n",
    "\n",
    "    fib_auc = ((df.iloc[i + mean_row, auc_col]- df.iloc[i + mean_row, ci_lo_col], \\\n",
    "                df.iloc[i + fold1_row, auc_col] - df.iloc[i + fold1_row, ci_lo_col], \\\n",
    "                df.iloc[i + fold2_row, auc_col]- df.iloc[i + fold2_row, ci_lo_col], \\\n",
    "                df.iloc[i + fold3_row, auc_col]- df.iloc[i + fold3_row, ci_lo_col]), \\\n",
    "               (df.iloc[i + mean_row, ci_hi_col] - df.iloc[i + mean_row, 2], \\\n",
    "                df.iloc[i + fold1_row, ci_hi_col] - df.iloc[i + fold1_row, 2], \\\n",
    "                df.iloc[i + fold2_row, ci_hi_col] - df.iloc[i + fold2_row, 2], \\\n",
    "                df.iloc[i + fold3_row, ci_hi_col] - df.iloc[i + fold3_row, 2]))\n",
    "\n",
    "    fib_aucs.append(fib_auc)"
   ]
  },
  {
   "cell_type": "code",
   "execution_count": 130,
   "metadata": {},
   "outputs": [
    {
     "data": {
      "text/plain": [
       "[(57.72, 59.53, 66.24, 47.39),\n",
       " (64.07, 67.29, 68.87, 56.04),\n",
       " (61.57, 62.05, 62.53, 60.13),\n",
       " (65.47, 69.71, 67.41, 59.31),\n",
       " (65.86, 65.9, 71.91, 59.77)]"
      ]
     },
     "execution_count": 130,
     "metadata": {},
     "output_type": "execute_result"
    }
   ],
   "source": [
    "fibs"
   ]
  },
  {
   "cell_type": "code",
   "execution_count": 131,
   "metadata": {},
   "outputs": [
    {
     "data": {
      "text/plain": [
       "[((32.28, 28.490000000000002, 32.949999999999996, 35.41),\n",
       "  (31.710000000000008, 26.879999999999995, 30.060000000000002, 38.2)),\n",
       " ((35.60999999999999, 36.13000000000001, 33.38, 37.33),\n",
       "  (30.03, 30.209999999999994, 27.89, 32.02)),\n",
       " ((32.29, 32.589999999999996, 32.83, 31.44),\n",
       "  (29.869999999999997, 29.900000000000006, 30.760000000000005, 28.96)),\n",
       " ((34.9, 36.459999999999994, 32.97, 35.290000000000006),\n",
       "  (28.799999999999997,\n",
       "   26.560000000000002,\n",
       "   27.60000000000001,\n",
       "   32.209999999999994)),\n",
       " ((34.8, 38.440000000000005, 33.669999999999995, 32.28),\n",
       "  (28.47, 31.19999999999999, 28.090000000000003, 26.119999999999997))]"
      ]
     },
     "execution_count": 131,
     "metadata": {},
     "output_type": "execute_result"
    }
   ],
   "source": [
    "fib_aucs"
   ]
  },
  {
   "cell_type": "code",
   "execution_count": 132,
   "metadata": {},
   "outputs": [
    {
     "data": {
      "image/png": "[encoded data removed]",
      "text/plain": [
       "<Figure size 432x288 with 1 Axes>"
      ]
     },
     "metadata": {
      "needs_background": "light"
     },
     "output_type": "display_data"
    }
   ],
   "source": [
    "exp1_fib, exp1_auc = fibs[0], fib_aucs[0]\n",
    "exp2_fib, exp2_auc = fibs[1], fib_aucs[1]\n",
    "exp3_fib, exp3_auc = fibs[2], fib_aucs[2]\n",
    "exp4_fib, exp4_auc = fibs[3], fib_aucs[3]\n",
    "exp5_fib, exp5_auc = fibs[4], fib_aucs[4]\n",
    "#women_means, women_std = (25, 32, 34, 20, 25), (3, 5, 2, 3, 3)\n",
    "\n",
    "ind = np.arange(len(exp1_fib))  # the x locations for the groups\n",
    "width = 0.15  # the width of the bars\n",
    "\n",
    "fig, ax = plt.subplots()\n",
    "rects1 = ax.bar(ind - width, exp1_fib, width, yerr=exp1_auc,capsize=5, zorder=-1,\n",
    "                label='Exp1')\n",
    "rects2 = ax.bar(ind, exp2_fib, width, yerr=exp2_auc,capsize=5, zorder=-1,\n",
    "                label='Exp2')\n",
    "rects3 = ax.bar(ind + width, exp3_fib, width, yerr=exp3_auc,capsize=5, zorder=-1,\n",
    "                label='Exp3')\n",
    "rects4 = ax.bar(ind + 2*width, exp4_fib, width, yerr=exp4_auc,capsize=5, zorder=-1,\n",
    "                label='Exp4')\n",
    "rects5 = ax.bar(ind + 3*width, exp5_fib, width, yerr=exp5_auc,capsize=5, zorder=-1,\n",
    "                label='Exp5')\n",
    "#rects2 = ax.bar(ind + width/2, women_means, width, yerr=women_std,capsize=5, zorder=-1,\n",
    "#                label='Women')\n",
    "\n",
    "# Add some text for labels, title and custom x-axis tick labels, etc.\n",
    "ax.set_ylabel('AUC Value')\n",
    "#ax.set_title('Scores by group and gender')\n",
    "ax.set_xticks(ind)\n",
    "ax.set_xticklabels(('Mean', 'Fold1', 'Fold2', 'Fold3'))\n",
    "ax.legend(loc='upper right', ncol=2)\n",
    "plt.ylim(top=130)\n",
    "plt.savefig('AUC-ballooning.png')"
   ]
  },
  {
   "cell_type": "code",
   "execution_count": 133,
   "metadata": {},
   "outputs": [
    {
     "data": {
      "text/plain": [
       "<Figure size 432x288 with 0 Axes>"
      ]
     },
     "metadata": {},
     "output_type": "display_data"
    }
   ],
   "source": [
    "plt.gcf().clear()"
   ]
  }
 ],
 "metadata": {
  "kernelspec": {
   "display_name": "Python 3",
   "language": "python",
   "name": "python3"
  },
  "language_info": {
   "codemirror_mode": {
    "name": "ipython",
    "version": 3
   },
   "file_extension": ".py",
   "mimetype": "text/x-python",
   "name": "python",
   "nbconvert_exporter": "python",
   "pygments_lexer": "ipython3",
   "version": "3.7.7"
  }
 },
 "nbformat": 4,
 "nbformat_minor": 4
}
